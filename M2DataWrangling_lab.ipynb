{
  "cells": [
    {
      "cell_type": "markdown",
      "metadata": {
        "id": "view-in-github",
        "colab_type": "text"
      },
      "source": [
        "<a href=\"https://colab.research.google.com/github/agniskuhl/capstone_project_IBM/blob/main/M2DataWrangling_lab.ipynb\" target=\"_parent\"><img src=\"https://colab.research.google.com/assets/colab-badge.svg\" alt=\"Open In Colab\"/></a>"
      ]
    },
    {
      "cell_type": "markdown",
      "metadata": {
        "id": "Hgxlq6zSDizc"
      },
      "source": [
        "<p style=\"text-align:center\">\n",
        "    <a href=\"https://skills.network/?utm_medium=Exinfluencer&utm_source=Exinfluencer&utm_content=000026UJ&utm_term=10006555&utm_id=NA-SkillsNetwork-Channel-SkillsNetworkCoursesIBMDA0321ENSkillsNetwork928-2022-01-01\" target=\"_blank\">\n",
        "    <img src=\"https://cf-courses-data.s3.us.cloud-object-storage.appdomain.cloud/assets/logos/SN_web_lightmode.png\" width=\"200\" alt=\"Skills Network Logo\"  />\n",
        "    </a>\n",
        "</p>\n"
      ]
    },
    {
      "cell_type": "markdown",
      "metadata": {
        "id": "gqk5DKxMDizl"
      },
      "source": [
        "# **Data Wrangling Lab**\n"
      ]
    },
    {
      "cell_type": "markdown",
      "metadata": {
        "id": "kERmXFILDizq"
      },
      "source": [
        "Estimated time needed: **45 to 60** minutes\n"
      ]
    },
    {
      "cell_type": "markdown",
      "metadata": {
        "id": "_I1CnvWcDizs"
      },
      "source": [
        "In this assignment you will be performing data wrangling.\n"
      ]
    },
    {
      "cell_type": "markdown",
      "metadata": {
        "id": "6Aw5sTM6Dizt"
      },
      "source": [
        "## Objectives\n"
      ]
    },
    {
      "cell_type": "markdown",
      "metadata": {
        "id": "XP2rtn6zDizu"
      },
      "source": [
        "In this lab you will perform the following:\n"
      ]
    },
    {
      "cell_type": "markdown",
      "metadata": {
        "id": "Zb7kupWmDizv"
      },
      "source": [
        "-   Identify duplicate values in the dataset.\n",
        "\n",
        "-   Remove duplicate values from the dataset.\n",
        "\n",
        "-   Identify missing values in the dataset.\n",
        "\n",
        "-   Impute the missing values in the dataset.\n",
        "\n",
        "-   Normalize data in the dataset.\n"
      ]
    },
    {
      "cell_type": "markdown",
      "metadata": {
        "id": "zrT3lxmLDizw"
      },
      "source": [
        "<hr>\n"
      ]
    },
    {
      "cell_type": "markdown",
      "metadata": {
        "id": "CJ8v1ZaIDizy"
      },
      "source": [
        "## Hands on Lab\n"
      ]
    },
    {
      "cell_type": "markdown",
      "metadata": {
        "id": "PcHErkacDizz"
      },
      "source": [
        "Import pandas module.\n"
      ]
    },
    {
      "cell_type": "code",
      "execution_count": null,
      "metadata": {
        "id": "x2Wnb9kTDizz"
      },
      "outputs": [],
      "source": [
        "import pandas as pd"
      ]
    },
    {
      "cell_type": "markdown",
      "metadata": {
        "id": "ErS900eCDiz1"
      },
      "source": [
        "Load the dataset into a dataframe.\n"
      ]
    },
    {
      "cell_type": "code",
      "execution_count": null,
      "metadata": {
        "id": "SiTWbJhPDiz2"
      },
      "outputs": [],
      "source": [
        "df = pd.read_csv(\"https://cf-courses-data.s3.us.cloud-object-storage.appdomain.cloud/IBM-DA0321EN-SkillsNetwork/LargeData/m1_survey_data.csv\")"
      ]
    },
    {
      "cell_type": "markdown",
      "metadata": {
        "id": "cC4KtCYqDiz2"
      },
      "source": [
        "## Finding duplicates\n"
      ]
    },
    {
      "cell_type": "markdown",
      "metadata": {
        "id": "8otKPtT0Diz3"
      },
      "source": [
        "In this section you will identify duplicate values in the dataset.\n"
      ]
    },
    {
      "cell_type": "markdown",
      "metadata": {
        "id": "D5cLXsFLDiz3"
      },
      "source": [
        " Find how many duplicate rows exist in the dataframe.\n"
      ]
    },
    {
      "cell_type": "code",
      "execution_count": null,
      "metadata": {
        "colab": {
          "base_uri": "https://localhost:8080/"
        },
        "id": "tvw3AiKGDiz3",
        "outputId": "94a6e90d-2051-466e-d3a3-56ff044b44ba"
      },
      "outputs": [
        {
          "output_type": "execute_result",
          "data": {
            "text/plain": [
              "154"
            ]
          },
          "metadata": {},
          "execution_count": 3
        }
      ],
      "source": [
        "# your code goes here\n",
        "df.duplicated().sum()"
      ]
    },
    {
      "cell_type": "markdown",
      "metadata": {
        "id": "HGC7GlPwDiz5"
      },
      "source": [
        "## Removing duplicates\n"
      ]
    },
    {
      "cell_type": "markdown",
      "metadata": {
        "id": "JX9KNpy4Diz6"
      },
      "source": [
        "Remove the duplicate rows from the dataframe.\n"
      ]
    },
    {
      "cell_type": "code",
      "execution_count": null,
      "metadata": {
        "colab": {
          "base_uri": "https://localhost:8080/"
        },
        "id": "JGHPMeBTDiz6",
        "outputId": "acf6651d-63a9-4915-9bfd-0f4d2ba44f87"
      },
      "outputs": [
        {
          "output_type": "execute_result",
          "data": {
            "text/plain": [
              "(11398, 85)"
            ]
          },
          "metadata": {},
          "execution_count": 4
        }
      ],
      "source": [
        "# your code goes here\n",
        "df.drop_duplicates(inplace=True)\n",
        "df.shape"
      ]
    },
    {
      "cell_type": "markdown",
      "metadata": {
        "id": "LMcwEXooDiz7"
      },
      "source": [
        "Verify if duplicates were actually dropped.\n"
      ]
    },
    {
      "cell_type": "code",
      "execution_count": null,
      "metadata": {
        "colab": {
          "base_uri": "https://localhost:8080/"
        },
        "id": "jjgoTM_HDiz8",
        "outputId": "fe940ba1-7751-4a2a-c575-ae0c2a2a41c4"
      },
      "outputs": [
        {
          "output_type": "execute_result",
          "data": {
            "text/plain": [
              "0"
            ]
          },
          "metadata": {},
          "execution_count": 5
        }
      ],
      "source": [
        "# your code goes here\n",
        "df.duplicated().sum()"
      ]
    },
    {
      "cell_type": "markdown",
      "metadata": {
        "id": "snAra1_sDiz9"
      },
      "source": [
        "## Finding Missing values\n"
      ]
    },
    {
      "cell_type": "markdown",
      "metadata": {
        "id": "3qxkGhPfDiz-"
      },
      "source": [
        "Find the missing values for all columns.\n"
      ]
    },
    {
      "cell_type": "code",
      "execution_count": null,
      "metadata": {
        "colab": {
          "base_uri": "https://localhost:8080/"
        },
        "id": "-o_d_lI-Diz-",
        "outputId": "fa96fc68-f0e9-487c-d5b8-d080b8bf2dbe"
      },
      "outputs": [
        {
          "output_type": "stream",
          "name": "stdout",
          "text": [
            "Respondent                   0\n",
            "MainBranch                   0\n",
            "Hobbyist                     0\n",
            "OpenSourcer                  0\n",
            "OpenSource                  81\n",
            "Employment                   0\n",
            "Country                      0\n",
            "Student                     51\n",
            "EdLevel                    112\n",
            "UndergradMajor             737\n",
            "EduOther                   164\n",
            "OrgSize                     96\n",
            "DevType                     65\n",
            "YearsCode                    9\n",
            "Age1stCode                  13\n",
            "YearsCodePro                16\n",
            "CareerSat                    0\n",
            "JobSat                       1\n",
            "MgrIdiot                   493\n",
            "MgrMoney                   497\n",
            "MgrWant                    493\n",
            "JobSeek                      0\n",
            "LastHireDate                 0\n",
            "LastInt                    413\n",
            "FizzBuzz                    37\n",
            "JobFactors                   3\n",
            "ResumeUpdate                39\n",
            "CurrencySymbol               0\n",
            "CurrencyDesc                 0\n",
            "CompTotal                  809\n",
            "CompFreq                   206\n",
            "ConvertedComp              816\n",
            "WorkWeekHrs                122\n",
            "WorkPlan                   121\n",
            "WorkChallenge              164\n",
            "WorkRemote                   8\n",
            "WorkLoc                     32\n",
            "ImpSyn                       5\n",
            "CodeRev                      1\n",
            "CodeRevHrs                2426\n",
            "UnitTests                   29\n",
            "PurchaseHow                196\n",
            "PurchaseWhat                38\n",
            "LanguageWorkedWith          11\n",
            "LanguageDesireNextYear     134\n",
            "DatabaseWorkedWith         453\n",
            "DatabaseDesireNextYear    1042\n",
            "PlatformWorkedWith         411\n",
            "PlatformDesireNextYear     544\n",
            "WebFrameWorkedWith        1393\n",
            "WebFrameDesireNextYear    1617\n",
            "MiscTechWorkedWith        2182\n",
            "MiscTechDesireNextYear    1455\n",
            "DevEnviron                  29\n",
            "OpSys                       34\n",
            "Containers                  82\n",
            "BlockchainOrg             2322\n",
            "BlockchainIs              2610\n",
            "BetterLife                  98\n",
            "ITperson                    35\n",
            "OffOn                       38\n",
            "SocialMedia                293\n",
            "Extraversion                20\n",
            "ScreenName                 507\n",
            "SOVisit1st                 325\n",
            "SOVisitFreq                  5\n",
            "SOVisitTo                    1\n",
            "SOFindAnswer                 3\n",
            "SOTimeSaved                 50\n",
            "SOHowMuchTime             1917\n",
            "SOAccount                    1\n",
            "SOPartFreq                1128\n",
            "SOJobs                       6\n",
            "EntTeams                     5\n",
            "SOComm                       0\n",
            "WelcomeChange               85\n",
            "SONewContent              1965\n",
            "Age                        287\n",
            "Gender                      73\n",
            "Trans                      123\n",
            "Sexuality                  542\n",
            "Ethnicity                  675\n",
            "Dependents                 140\n",
            "SurveyLength                19\n",
            "SurveyEase                  14\n",
            "dtype: int64\n"
          ]
        }
      ],
      "source": [
        "# your code goes here\n",
        "with pd.option_context('display.max_rows', None, 'display.max_columns', None):\n",
        "    print(df.isnull().sum())\n"
      ]
    },
    {
      "cell_type": "markdown",
      "metadata": {
        "id": "2tZy4qDJDiz_"
      },
      "source": [
        "Find out how many rows are missing in the column 'WorkLoc'\n"
      ]
    },
    {
      "cell_type": "code",
      "execution_count": null,
      "metadata": {
        "colab": {
          "base_uri": "https://localhost:8080/"
        },
        "id": "0EZ38kWSDi0A",
        "outputId": "7ebcb16a-4ed1-455d-a0a5-9614f55d9361"
      },
      "outputs": [
        {
          "output_type": "execute_result",
          "data": {
            "text/plain": [
              "32"
            ]
          },
          "metadata": {},
          "execution_count": 7
        }
      ],
      "source": [
        "# your code goes here\n",
        "df['WorkLoc'].isnull().sum()\n"
      ]
    },
    {
      "cell_type": "code",
      "execution_count": null,
      "metadata": {
        "colab": {
          "base_uri": "https://localhost:8080/"
        },
        "id": "hqS2F4_lDi0A",
        "outputId": "562cbdb9-144c-45f4-dbfe-8079ea10f6a4"
      },
      "outputs": [
        {
          "output_type": "execute_result",
          "data": {
            "text/plain": [
              "112"
            ]
          },
          "metadata": {},
          "execution_count": 8
        }
      ],
      "source": [
        "df['EdLevel'].isnull().sum()"
      ]
    },
    {
      "cell_type": "code",
      "execution_count": null,
      "metadata": {
        "colab": {
          "base_uri": "https://localhost:8080/"
        },
        "id": "zA2CB6OFDi0B",
        "outputId": "bf28c8d2-3a5b-48fd-fe28-34a4f6d8c3d0"
      },
      "outputs": [
        {
          "output_type": "execute_result",
          "data": {
            "text/plain": [
              "0"
            ]
          },
          "metadata": {},
          "execution_count": 9
        }
      ],
      "source": [
        "df['Country'].isnull().sum()"
      ]
    },
    {
      "cell_type": "markdown",
      "metadata": {
        "id": "xM9bNjYfDi0C"
      },
      "source": [
        "## Imputing missing values\n"
      ]
    },
    {
      "cell_type": "markdown",
      "metadata": {
        "id": "rBjHPbKbDi0D"
      },
      "source": [
        "Find the  value counts for the column WorkLoc.\n"
      ]
    },
    {
      "cell_type": "code",
      "execution_count": null,
      "metadata": {
        "colab": {
          "base_uri": "https://localhost:8080/"
        },
        "id": "KNnUxYKbDi0D",
        "outputId": "7dd54f89-4199-43d8-b806-ed061f0ec02b"
      },
      "outputs": [
        {
          "output_type": "execute_result",
          "data": {
            "text/plain": [
              "Office                                            6806\n",
              "Home                                              3589\n",
              "Other place, such as a coworking space or cafe     971\n",
              "Name: WorkLoc, dtype: int64"
            ]
          },
          "metadata": {},
          "execution_count": 10
        }
      ],
      "source": [
        "# your code goes here\n",
        "df['WorkLoc'].value_counts()"
      ]
    },
    {
      "cell_type": "markdown",
      "metadata": {
        "id": "7nrv5MOFDi0E"
      },
      "source": [
        "Identify the value that is most frequent (majority) in the WorkLoc column.\n"
      ]
    },
    {
      "cell_type": "code",
      "execution_count": null,
      "metadata": {
        "id": "TbrZfd7bDi0F"
      },
      "outputs": [],
      "source": [
        "#make a note of the majority value here, for future reference\n",
        "#(6806)"
      ]
    },
    {
      "cell_type": "markdown",
      "metadata": {
        "id": "lAcpcplPDi0F"
      },
      "source": [
        "Impute (replace) all the empty rows in the column WorkLoc with the value that you have identified as majority.\n"
      ]
    },
    {
      "cell_type": "code",
      "execution_count": null,
      "metadata": {
        "colab": {
          "base_uri": "https://localhost:8080/"
        },
        "id": "IPpSdqBhDi0G",
        "outputId": "e6e6d1be-6da5-46ae-f63c-f618a07e9031"
      },
      "outputs": [
        {
          "output_type": "stream",
          "name": "stdout",
          "text": [
            "\n",
            "Value counts for missing data in WorkLoc:\n",
            "\n",
            "False    11366\n",
            "True        32\n",
            "Name: WorkLoc, dtype: int64\n",
            "\n",
            "Here are the first 10 rows missing values for WorkLoc:\n",
            "      Respondent WorkLoc\n",
            "130          285     NaN\n",
            "242          550     NaN\n",
            "866         1847     NaN\n",
            "1455        2826     NaN\n",
            "1753        3536     NaN\n",
            "2339        4768     NaN\n",
            "2689        5562     NaN\n",
            "2788        5769     NaN\n",
            "3165        6613     NaN\n",
            "3213        6721     NaN\n"
          ]
        }
      ],
      "source": [
        "# your code goes here\n",
        "import numpy as np\n",
        "\n",
        "workloc_highest = 'Office'\n",
        "\n",
        "missing_data = df.isnull()\n",
        "#print(missing_data.head(5))\n",
        "\n",
        "print('\\nValue counts for missing data in WorkLoc:\\n')\n",
        "print( missing_data['WorkLoc'].value_counts())\n",
        "\n",
        "\n",
        "print('\\nHere are the first 10 rows missing values for WorkLoc:')\n",
        "print(df[missing_data['WorkLoc']][['Respondent','WorkLoc']].head(10))\n",
        "\n",
        "df['WorkLoc'].replace(np.nan, workloc_highest, inplace=True)"
      ]
    },
    {
      "cell_type": "markdown",
      "metadata": {
        "id": "kC3J0AoFDi0H"
      },
      "source": [
        "After imputation there should ideally not be any empty rows in the WorkLoc column.\n"
      ]
    },
    {
      "cell_type": "markdown",
      "metadata": {
        "id": "dLzzNyiODi0H"
      },
      "source": [
        "Verify if imputing was successful.\n"
      ]
    },
    {
      "cell_type": "code",
      "execution_count": null,
      "metadata": {
        "colab": {
          "base_uri": "https://localhost:8080/"
        },
        "id": "lvKTVgP9Di0I",
        "outputId": "08bb904e-e73b-483f-f86c-cf985e01323a"
      },
      "outputs": [
        {
          "output_type": "stream",
          "name": "stdout",
          "text": [
            "\n",
            "New value counts for missing data in WorkLoc:\n",
            "\n",
            "False    11366\n",
            "True        32\n",
            "Name: WorkLoc, dtype: int64\n"
          ]
        }
      ],
      "source": [
        "# your code goes here\n",
        "# your code goes here\n",
        "print('\\nNew value counts for missing data in WorkLoc:\\n')\n",
        "print(missing_data['WorkLoc'].value_counts())\n",
        "# No 'True' values means that we have eliminated all empty WorkLoc values."
      ]
    },
    {
      "cell_type": "markdown",
      "metadata": {
        "id": "YdhoVKVGDi0J"
      },
      "source": [
        "## Normalizing data\n"
      ]
    },
    {
      "cell_type": "markdown",
      "metadata": {
        "id": "4-0iVxVsDi0J"
      },
      "source": [
        "There are two columns in the dataset that talk about compensation.\n",
        "\n",
        "One is \"CompFreq\". This column shows how often a developer is paid (Yearly, Monthly, Weekly).\n",
        "\n",
        "The other is \"CompTotal\". This column talks about how much the developer is paid per Year, Month, or Week depending upon his/her \"CompFreq\". \n",
        "\n",
        "This makes it difficult to compare the total compensation of the developers.\n",
        "\n",
        "In this section you will create a new column called 'NormalizedAnnualCompensation' which contains the 'Annual Compensation' irrespective of the 'CompFreq'.\n",
        "\n",
        "Once this column is ready, it makes comparison of salaries easy.\n"
      ]
    },
    {
      "cell_type": "markdown",
      "metadata": {
        "id": "HUutrQw0Di0K"
      },
      "source": [
        "<hr>\n"
      ]
    },
    {
      "cell_type": "markdown",
      "metadata": {
        "id": "0z0SpmfxDi0K"
      },
      "source": [
        "List out the various categories in the column 'CompFreq'\n"
      ]
    },
    {
      "cell_type": "code",
      "execution_count": null,
      "metadata": {
        "colab": {
          "base_uri": "https://localhost:8080/"
        },
        "id": "KM2HoG26Di0L",
        "outputId": "e95b437a-9c66-49fd-c87d-a98b05186c1b"
      },
      "outputs": [
        {
          "output_type": "stream",
          "name": "stdout",
          "text": [
            "Yearly     6073\n",
            "Monthly    4788\n",
            "Weekly      331\n",
            "Name: CompFreq, dtype: int64\n"
          ]
        }
      ],
      "source": [
        "# your code goes here\n",
        "print(df['CompFreq'].value_counts())"
      ]
    },
    {
      "cell_type": "markdown",
      "metadata": {
        "id": "2JeliWksDi0L"
      },
      "source": [
        "Create a new column named 'NormalizedAnnualCompensation'. Use the hint given below if needed.\n"
      ]
    },
    {
      "cell_type": "markdown",
      "metadata": {
        "id": "kWwM9TDvDi0M"
      },
      "source": [
        "Double click to see the **Hint**.\n",
        "\n",
        "<!--\n",
        "\n",
        "Use the below logic to arrive at the values for the column NormalizedAnnualCompensation.\n",
        "\n",
        "If the CompFreq is Yearly then use the exising value in CompTotal\n",
        "If the CompFreq is Monthly then multiply the value in CompTotal with 12 (months in an year)\n",
        "If the CompFreq is Weekly then multiply the value in CompTotal with 52 (weeks in an year)\n",
        "\n",
        "-->\n"
      ]
    },
    {
      "cell_type": "code",
      "execution_count": null,
      "metadata": {
        "colab": {
          "base_uri": "https://localhost:8080/"
        },
        "id": "CLPhLC60Di0N",
        "outputId": "af9b59be-1128-42e6-9961-d7742cf20634"
      },
      "outputs": [
        {
          "output_type": "execute_result",
          "data": {
            "text/plain": [
              "100000.0"
            ]
          },
          "metadata": {},
          "execution_count": 14
        }
      ],
      "source": [
        "# your code goes here\n",
        "df.loc[df['CompFreq'] == 'Yearly', 'NormalizedAnnualCompensation']  = 1  * df['CompTotal']\n",
        "df.loc[df['CompFreq'] == 'Monthly', 'NormalizedAnnualCompensation'] = 12 * df['CompTotal']\n",
        "df.loc[df['CompFreq'] == 'Weekly', 'NormalizedAnnualCompensation']  = 52 * df['CompTotal']\n",
        "\n",
        "\n",
        "df[['CompTotal','CompFreq','NormalizedAnnualCompensation']].head(20)\n",
        "\n",
        "df['NormalizedAnnualCompensation'].median()"
      ]
    },
    {
      "cell_type": "markdown",
      "metadata": {
        "id": "NI-LAZA4Di0N"
      },
      "source": [
        "## Authors\n"
      ]
    },
    {
      "cell_type": "markdown",
      "metadata": {
        "id": "HHWKybJSDi0O"
      },
      "source": [
        "Ramesh Sannareddy\n"
      ]
    },
    {
      "cell_type": "markdown",
      "metadata": {
        "id": "2zL3OYvCDi0O"
      },
      "source": [
        "### Other Contributors\n"
      ]
    },
    {
      "cell_type": "markdown",
      "metadata": {
        "id": "uvVu5nfuDi0O"
      },
      "source": [
        "Rav Ahuja\n"
      ]
    },
    {
      "cell_type": "markdown",
      "metadata": {
        "id": "vHwiqeBCDi0P"
      },
      "source": [
        "## Change Log\n"
      ]
    },
    {
      "cell_type": "markdown",
      "metadata": {
        "id": "8yvscYzDDi0P"
      },
      "source": [
        "| Date (YYYY-MM-DD) | Version | Changed By        | Change Description                 |\n",
        "| ----------------- | ------- | ----------------- | ---------------------------------- |\n",
        "| 2020-10-17        | 0.1     | Ramesh Sannareddy | Created initial version of the lab |\n"
      ]
    },
    {
      "cell_type": "markdown",
      "metadata": {
        "id": "B_UNkBT0Di0P"
      },
      "source": [
        " Copyright © 2020 IBM Corporation. This notebook and its source code are released under the terms of the [MIT License](https://cognitiveclass.ai/mit-license?utm_medium=Exinfluencer&utm_source=Exinfluencer&utm_content=000026UJ&utm_term=10006555&utm_id=NA-SkillsNetwork-Channel-SkillsNetworkCoursesIBMDA0321ENSkillsNetwork928-2022-01-01&cm_mmc=Email_Newsletter-_-Developer_Ed%2BTech-_-WW_WW-_-SkillsNetwork-Courses-IBM-DA0321EN-SkillsNetwork-21426264&cm_mmca1=000026UJ&cm_mmca2=10006555&cm_mmca3=M12345678&cvosrc=email.Newsletter.M12345678&cvo_campaign=000026UJ).\n"
      ]
    }
  ],
  "metadata": {
    "kernelspec": {
      "display_name": "Python 3 (ipykernel)",
      "language": "python",
      "name": "python3"
    },
    "language_info": {
      "codemirror_mode": {
        "name": "ipython",
        "version": 3
      },
      "file_extension": ".py",
      "mimetype": "text/x-python",
      "name": "python",
      "nbconvert_exporter": "python",
      "pygments_lexer": "ipython3",
      "version": "3.9.13"
    },
    "colab": {
      "provenance": [],
      "include_colab_link": true
    }
  },
  "nbformat": 4,
  "nbformat_minor": 0
}